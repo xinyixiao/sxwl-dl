{
 "cells": [
  {
   "cell_type": "code",
   "execution_count": null,
   "metadata": {
    "collapsed": false
   },
   "outputs": [],
   "source": [
    "# -*- coding: utf-8 -*-\n",
    "\"\"\"\n",
    "Created on Sun Sep 18 10:26:42 2016\n",
    "\n",
    "@author: mac\n",
    "\"\"\"\n",
    "import urllib\n",
    "import re\n",
    "import os\n",
    "import socket\n",
    "def schedule(a,b,c):\n",
    "  '''''\n",
    "  a:已经下载的数据块\n",
    "  b:数据块的大小\n",
    "  c:远程文件的大小\n",
    "   '''\n",
    "  per = 100.0 * a * b / c\n",
    "  if per > 100 :\n",
    "    per = 100\n",
    "  print '%.2f%%' % per\n",
    "\n",
    "def getHtml(url):\n",
    "  page = urllib.urlopen(url)\n",
    "  html = page.read()\n",
    "  return html\n",
    "def downloadImg(html,logoname,count):\n",
    "  reg = r'\"objURL\":\"(.*?)\"'    #正则表达式匹配\n",
    "  imgre = re.compile(reg)\n",
    "  imglist = re.findall(imgre, html)\n",
    "  #定义文件夹的名字\n",
    "  picpath = 'logo_img/%s/' % (logoname) #下载到的本地目录\n",
    "  \n",
    "  if not os.path.exists(picpath):   #路径不存在时创建一个\n",
    "    os.makedirs(picpath)   \n",
    "  x = 0\n",
    "  socket.setdefaulttimeout(10)#设置防止下载时间超时10s\n",
    "  for imgurl in imglist:\n",
    "    target = picpath+'%s.jpg' % count\n",
    "    print 'Downloading image to location: ' + target + '\\nurl=' + imgurl\n",
    "    try:    \n",
    "        image = urllib.urlretrieve(imgurl, target, schedule)\n",
    "        x += 1\n",
    "        count += 1\n",
    "        print \"count =========\" + str(count)#当前logo下载的数量\n",
    "    except:\n",
    "        continue\n",
    "  return image,count;\n",
    "if __name__ == \"__main__\":\n",
    "    f = open(\"/Users/mac/logo_detection/paste_img/flickr-32.txt\", \"r\")  #logo_name2.txt内每行存放需要获取的图片关键字\n",
    "    while True:\n",
    "        logoname = f.readline()\n",
    "        logoname = logoname[:-1]\n",
    "        page = 0;\n",
    "        if logoname:\n",
    "            print logoname\n",
    "            count = 0\n",
    "            try:\n",
    "                while(count<400):#设置需要下载图片的数目\n",
    "                    html = getHtml(\"http://image.baidu.com/search/flip?tn=baiduimage&ie=utf-8&word=%s&pn=%d\"%(logoname,page))          \n",
    "                    image,count = downloadImg(html,logoname,count) \n",
    "                    page += 20\n",
    "            except:\n",
    "                continue\n",
    "        else:\n",
    "            break\n",
    "    print \"Download has finished.\""
   ]
  },
  {
   "cell_type": "code",
   "execution_count": null,
   "metadata": {
    "collapsed": true
   },
   "outputs": [],
   "source": []
  }
 ],
 "metadata": {
  "anaconda-cloud": {},
  "kernelspec": {
   "display_name": "Python [Root]",
   "language": "python",
   "name": "Python [Root]"
  },
  "language_info": {
   "codemirror_mode": {
    "name": "ipython",
    "version": 2
   },
   "file_extension": ".py",
   "mimetype": "text/x-python",
   "name": "python",
   "nbconvert_exporter": "python",
   "pygments_lexer": "ipython2",
   "version": "2.7.12"
  }
 },
 "nbformat": 4,
 "nbformat_minor": 0
}
